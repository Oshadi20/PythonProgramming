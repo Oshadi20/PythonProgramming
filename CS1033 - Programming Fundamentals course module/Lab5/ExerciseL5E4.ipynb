{
 "cells": [
  {
   "cell_type": "code",
   "execution_count": 1,
   "metadata": {},
   "outputs": [
    {
     "name": "stdout",
     "output_type": "stream",
     "text": [
      "1 2 3 4 5 6\n",
      "2 3 4 5 6 7\n",
      "3 4 5 6 7 8\n",
      "4 5 6 7 8 9\n",
      "-1\n",
      "1 2 3 4 \n",
      "2 3 4 5 \n",
      "3 4 5 6 \n",
      "4 5 6 7 \n",
      "5 6 7 8 \n",
      "6 7 8 9 \n",
      "\n"
     ]
    }
   ],
   "source": [
    "breaker=False\n",
    "matrix=[]\n",
    "while(True):\n",
    "    while(True):\n",
    "        numString=input()\n",
    "        if(numString==\"-1\"):\n",
    "            breaker=True\n",
    "            break\n",
    "        else:\n",
    "            try:\n",
    "                num=list(map(int,numString.split()))\n",
    "            except ValueError: #Invalid literal\n",
    "                print(\"Error\")\n",
    "            else:\n",
    "                matrix.append(num)\n",
    "    if (breaker):\n",
    "            break\n",
    "            \n",
    "transpose=''\n",
    "try:\n",
    "    for i in range(len(matrix[0])):\n",
    "        row=\"\"\n",
    "        for j in range(len(matrix)):\n",
    "            row=row+str(matrix[j][i])+\" \"\n",
    "        transpose=transpose+row+\"\\n\"\n",
    "except IndexError: #Invalid rows with an inconsistent number of elements\n",
    "    print(\"Invalid Matrix\")\n",
    "else:\n",
    "    print(transpose)"
   ]
  }
 ],
 "metadata": {
  "kernelspec": {
   "display_name": "Python 3",
   "language": "python",
   "name": "python3"
  },
  "language_info": {
   "codemirror_mode": {
    "name": "ipython",
    "version": 3
   },
   "file_extension": ".py",
   "mimetype": "text/x-python",
   "name": "python",
   "nbconvert_exporter": "python",
   "pygments_lexer": "ipython3",
   "version": "3.7.4"
  }
 },
 "nbformat": 4,
 "nbformat_minor": 2
}
