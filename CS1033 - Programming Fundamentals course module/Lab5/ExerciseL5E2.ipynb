{
 "cells": [
  {
   "cell_type": "code",
   "execution_count": 1,
   "metadata": {},
   "outputs": [
    {
     "name": "stdout",
     "output_type": "stream",
     "text": [
      "cricket football\n",
      "I play cricket.\n",
      "I play football.\n",
      "I watch cricket.\n",
      "I watch football.\n",
      "We play cricket.\n",
      "We play football.\n",
      "We watch cricket.\n",
      "We watch football.\n"
     ]
    }
   ],
   "source": [
    "sports = [i for i in input().split(\" \")]\n",
    "subject = [\"I\",\"We\"]\n",
    "verb = [\"play\",\"watch\"]\n",
    "for i in subject:\n",
    "    for j in verb:\n",
    "        for k in sports:\n",
    "            print(i,j,k+'.')"
   ]
  }
 ],
 "metadata": {
  "kernelspec": {
   "display_name": "Python 3",
   "language": "python",
   "name": "python3"
  },
  "language_info": {
   "codemirror_mode": {
    "name": "ipython",
    "version": 3
   },
   "file_extension": ".py",
   "mimetype": "text/x-python",
   "name": "python",
   "nbconvert_exporter": "python",
   "pygments_lexer": "ipython3",
   "version": "3.7.4"
  }
 },
 "nbformat": 4,
 "nbformat_minor": 2
}
