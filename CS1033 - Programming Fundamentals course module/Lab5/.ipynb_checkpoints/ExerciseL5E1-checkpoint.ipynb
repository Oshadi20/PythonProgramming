{
 "cells": [
  {
   "cell_type": "code",
   "execution_count": 1,
   "metadata": {},
   "outputs": [
    {
     "name": "stdout",
     "output_type": "stream",
     "text": [
      "5 7.8 9.6 54 3.4 1.2 3 7 8.8 5\n",
      "Minimum = 1.2\n",
      "Maximum = 54\n"
     ]
    }
   ],
   "source": [
    "num1 = [float(i) for i in input().split()] #make a list using floating values of inputs\n",
    "num2 = []\n",
    "\n",
    "for j in num1:\n",
    "    if(j.is_integer()): #check whether integer\n",
    "        num2.append(int(j))\n",
    "    else:\n",
    "        num2.append(j)\n",
    "\n",
    "print(\"Minimum =\",min(num2))\n",
    "print(\"Maximum =\",max(num2))"
   ]
  },
  {
   "cell_type": "code",
   "execution_count": null,
   "metadata": {},
   "outputs": [],
   "source": []
  }
 ],
 "metadata": {
  "kernelspec": {
   "display_name": "Python 3",
   "language": "python",
   "name": "python3"
  },
  "language_info": {
   "codemirror_mode": {
    "name": "ipython",
    "version": 3
   },
   "file_extension": ".py",
   "mimetype": "text/x-python",
   "name": "python",
   "nbconvert_exporter": "python",
   "pygments_lexer": "ipython3",
   "version": "3.7.4"
  }
 },
 "nbformat": 4,
 "nbformat_minor": 2
}
