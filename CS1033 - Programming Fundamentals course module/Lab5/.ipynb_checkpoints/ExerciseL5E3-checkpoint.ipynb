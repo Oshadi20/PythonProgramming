{
 "cells": [
  {
   "cell_type": "code",
   "execution_count": 1,
   "metadata": {},
   "outputs": [
    {
     "name": "stdout",
     "output_type": "stream",
     "text": [
      "50 60 80\n",
      "60 75 90\n",
      "30 49 99\n",
      "66 58 67\n",
      "Total: 190 Average: 63.3\n",
      "Total: 225 Average: 75.0\n",
      "Total: 178 Average: 59.3\n",
      "Total: 191 Average: 63.7\n"
     ]
    }
   ],
   "source": [
    "a=[input() for i in range(4)] #take inputs four times and put them to a list\n",
    "b=[]\n",
    "for j in a:\n",
    "    b.append(([int(i) for i in j.strip().split()])) #make a list of integers of a input and put it to list b, repeat it\n",
    "for i in b:\n",
    "    total=0\n",
    "    for j in i:\n",
    "        total = total + j \n",
    "    average = round(total/3,1)\n",
    "    \n",
    "    print(\"Total:\",total,\"Average:\",average)"
   ]
  }
 ],
 "metadata": {
  "kernelspec": {
   "display_name": "Python 3",
   "language": "python",
   "name": "python3"
  },
  "language_info": {
   "codemirror_mode": {
    "name": "ipython",
    "version": 3
   },
   "file_extension": ".py",
   "mimetype": "text/x-python",
   "name": "python",
   "nbconvert_exporter": "python",
   "pygments_lexer": "ipython3",
   "version": "3.7.4"
  }
 },
 "nbformat": 4,
 "nbformat_minor": 2
}
