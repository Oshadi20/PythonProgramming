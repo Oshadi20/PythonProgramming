{
 "cells": [
  {
   "cell_type": "code",
   "execution_count": null,
   "metadata": {},
   "outputs": [],
   "source": [
    "import sys\n",
    "fo = open(input()) #open the input file \n",
    "\n",
    "def getNum(file):\n",
    "    #read number n from the file\n",
    "    n = int(file.read())\n",
    "    return n\n",
    "\n",
    "def compute(n):\n",
    "    #compute the F(n)\n",
    "    if(n==0):\n",
    "        F = 0\n",
    "        return F\n",
    "    elif(n==1):\n",
    "        F = 1\n",
    "        return F\n",
    "    elif(2<= n <=20):\n",
    "        F = compute(n-1) + compute(n-2) \n",
    "        return F\n",
    "    else:\n",
    "        #check for invalid n values\n",
    "        print(\"Invalid input.\")\n",
    "        sys.exit() #exit from the program\n",
    "\n",
    "def show(n,F):\n",
    "    #display values\n",
    "    global display\n",
    "    display = \"Fibonacci(%d) = %d\"%(n,F)\n",
    "    print(display)\n",
    "\n",
    "def saveFile(d):\n",
    "    #write display to a file\n",
    "    foW = open(\"result.txt\",'w')\n",
    "    foW.write(d)\n",
    "    foW.close()\n",
    "    \n",
    "\n",
    "number = getNum(fo)\n",
    "\n",
    "fVal = compute(number)\n",
    "\n",
    "show(number,fVal)\n",
    "\n",
    "saveFile(display)"
   ]
  }
 ],
 "metadata": {
  "kernelspec": {
   "display_name": "Python 3",
   "language": "python",
   "name": "python3"
  },
  "language_info": {
   "codemirror_mode": {
    "name": "ipython",
    "version": 3
   },
   "file_extension": ".py",
   "mimetype": "text/x-python",
   "name": "python",
   "nbconvert_exporter": "python",
   "pygments_lexer": "ipython3",
   "version": "3.7.4"
  }
 },
 "nbformat": 4,
 "nbformat_minor": 2
}
