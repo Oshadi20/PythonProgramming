{
 "cells": [
  {
   "cell_type": "code",
   "execution_count": null,
   "metadata": {},
   "outputs": [],
   "source": [
    "units = int(input())\n",
    "if(0<=units<=60):\n",
    "    if(0<=units<=30):\n",
    "        unitCharge = 2.50\n",
    "        fixedCharge = 30.00\n",
    "        bill = units*unitCharge + fixedCharge\n",
    "        print(bill)\n",
    "        \n",
    "    else:\n",
    "        unitCharge = 4.85\n",
    "        fixedCharge = 60.00\n",
    "        bill = 30*2.50+(units-30)*unitCharge + fixedCharge\n",
    "        print(bill)\n",
    "        \n",
    "else:\n",
    "    if(61<=units<=90):\n",
    "        unitCharge = 10.00\n",
    "        fixedCharge = 90.00\n",
    "        bill = 60*7.85 + (units-60)*unitCharge + fixedCharge\n",
    "        print(bill)\n",
    "        \n",
    "    elif(91<=units<=120):\n",
    "        unitCharge = 27.75\n",
    "        fixedCharge = 480.00\n",
    "        bill = 60*7.85 + 30*10.00 + (units-90)*unitCharge + fixedCharge\n",
    "        print(bill)\n",
    "        \n",
    "    elif(121<=units<=180):\n",
    "        unitCharge = 32.00\n",
    "        fixedCharge = 480.00\n",
    "        bill = 60*7.85 + 30*10.00 + 30*27.75 + (units-120)*unitCharge + fixedCharge\n",
    "        print(bill)\n",
    "        \n",
    "    else:\n",
    "        unitCharge = 45.00\n",
    "        fixedCharge = 540.00\n",
    "        bill = 60*7.85 + 30*10.00 + 30*27.75 + 60*32.00 + (units-180)*unitCharge + fixedCharge\n",
    "        print(bill)\n",
    "    "
   ]
  }
 ],
 "metadata": {
  "kernelspec": {
   "display_name": "Python 3",
   "language": "python",
   "name": "python3"
  },
  "language_info": {
   "codemirror_mode": {
    "name": "ipython",
    "version": 3
   },
   "file_extension": ".py",
   "mimetype": "text/x-python",
   "name": "python",
   "nbconvert_exporter": "python",
   "pygments_lexer": "ipython3",
   "version": "3.7.4"
  }
 },
 "nbformat": 4,
 "nbformat_minor": 2
}
