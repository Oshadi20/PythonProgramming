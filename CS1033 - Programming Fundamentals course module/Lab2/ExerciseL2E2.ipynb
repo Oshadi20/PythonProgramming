{
 "cells": [
  {
   "cell_type": "code",
   "execution_count": null,
   "metadata": {},
   "outputs": [],
   "source": [
    "global m,y\n",
    "date = input()\n",
    "y = int(date[:4])\n",
    "m = int(date[5:7])\n",
    "d = int(date[7:])\n",
    "if(m<3):\n",
    "    m = m+12\n",
    "    y = y-1\n",
    "a = 2*m+ 6*(m+1)//10\n",
    "b = y+ y//4- y//100+ y//400\n",
    "f1 = (d+a+b+1)\n",
    "f = f1 % 7\n",
    "print(f)"
   ]
  }
 ],
 "metadata": {
  "kernelspec": {
   "display_name": "Python 3",
   "language": "python",
   "name": "python3"
  },
  "language_info": {
   "codemirror_mode": {
    "name": "ipython",
    "version": 3
   },
   "file_extension": ".py",
   "mimetype": "text/x-python",
   "name": "python",
   "nbconvert_exporter": "python",
   "pygments_lexer": "ipython3",
   "version": "3.7.4"
  }
 },
 "nbformat": 4,
 "nbformat_minor": 2
}
