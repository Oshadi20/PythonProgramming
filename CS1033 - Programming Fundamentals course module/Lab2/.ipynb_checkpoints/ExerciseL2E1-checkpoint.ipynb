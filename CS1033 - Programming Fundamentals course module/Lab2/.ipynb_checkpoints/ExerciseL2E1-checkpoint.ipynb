{
 "cells": [
  {
   "cell_type": "code",
   "execution_count": null,
   "metadata": {},
   "outputs": [],
   "source": [
    "a1 = int(input(\"Enter angle 1: \"))\n",
    "a2 = int(input(\"Enter angle 2: \"))\n",
    "a3 = int(input(\"Enter angle 3: \"))\n",
    "\n",
    "if((a1+a2+a3 == 180)and(a1>0)and(a2>0)and(a3>0)):\n",
    "    if((a1==90) or (a2==90) or (a3==90) ):\n",
    "        print(\"Right angled\")\n",
    "    elif((a1>90) or (a2>90) or (a3>90)):\n",
    "        print(\"Obtuse angled\")\n",
    "    elif((a1<90) and (a2<90) and (a3<90)):\n",
    "        print(\"Acute angled\")\n",
    "        \n",
    "else:\n",
    "    print(\"Angles do not form a triangle\")"
   ]
  }
 ],
 "metadata": {
  "kernelspec": {
   "display_name": "Python 3",
   "language": "python",
   "name": "python3"
  },
  "language_info": {
   "codemirror_mode": {
    "name": "ipython",
    "version": 3
   },
   "file_extension": ".py",
   "mimetype": "text/x-python",
   "name": "python",
   "nbconvert_exporter": "python",
   "pygments_lexer": "ipython3",
   "version": "3.7.4"
  }
 },
 "nbformat": 4,
 "nbformat_minor": 2
}
