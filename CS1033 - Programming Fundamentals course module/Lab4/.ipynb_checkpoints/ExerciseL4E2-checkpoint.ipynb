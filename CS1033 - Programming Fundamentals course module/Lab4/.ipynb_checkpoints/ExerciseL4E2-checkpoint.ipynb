{
 "cells": [
  {
   "cell_type": "code",
   "execution_count": null,
   "metadata": {},
   "outputs": [],
   "source": [
    "n = int(input(\"Input number: \"))\n",
    "\n",
    "if(n>2):\n",
    "    abundant=[]\n",
    "    for k in range(2,n+1):\n",
    "        propDiv=[]\n",
    "        Sum=0\n",
    "        for i in range(1,k):\n",
    "            if(k%i==0)and(i!=k): #itself is not a proper divisor\n",
    "                propDiv.append(i)\n",
    "        for j in propDiv:\n",
    "            Sum+=j\n",
    "        if(Sum>k):  \n",
    "            abundant.append(k)\n",
    "    print(\"Number of abundant numbers from 1 to\",n,\"is\",len(abundant))       \n",
    "    \n",
    "else:\n",
    "    print(\"Invalid Input\")"
   ]
  }
 ],
 "metadata": {
  "kernelspec": {
   "display_name": "Python 3",
   "language": "python",
   "name": "python3"
  },
  "language_info": {
   "codemirror_mode": {
    "name": "ipython",
    "version": 3
   },
   "file_extension": ".py",
   "mimetype": "text/x-python",
   "name": "python",
   "nbconvert_exporter": "python",
   "pygments_lexer": "ipython3",
   "version": "3.7.4"
  }
 },
 "nbformat": 4,
 "nbformat_minor": 2
}
