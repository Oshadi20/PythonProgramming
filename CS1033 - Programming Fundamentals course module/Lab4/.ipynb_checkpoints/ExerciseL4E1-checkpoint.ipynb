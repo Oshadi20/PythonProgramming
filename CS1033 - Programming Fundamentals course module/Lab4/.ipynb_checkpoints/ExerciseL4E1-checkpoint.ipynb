{
 "cells": [
  {
   "cell_type": "code",
   "execution_count": 1,
   "metadata": {},
   "outputs": [
    {
     "name": "stdout",
     "output_type": "stream",
     "text": [
      "4\n",
      "non-prime\n",
      "-1\n"
     ]
    }
   ],
   "source": [
    "while(True):\n",
    "    i = int(input())\n",
    "    if(i < 0):\n",
    "        break\n",
    "    \n",
    "    counter = 1\n",
    "    for j in range(2,i):\n",
    "        if( i%j == 0): #divisible by other numbers\n",
    "            counter = 0\n",
    "            print(\"non-prime\")\n",
    "            break\n",
    "    if(counter == 1):\n",
    "        if(i == 1): #1 is not a prime\n",
    "            print(\"non-prime\")\n",
    "        else:\n",
    "            print(\"prime\")"
   ]
  }
 ],
 "metadata": {
  "kernelspec": {
   "display_name": "Python 3",
   "language": "python",
   "name": "python3"
  },
  "language_info": {
   "codemirror_mode": {
    "name": "ipython",
    "version": 3
   },
   "file_extension": ".py",
   "mimetype": "text/x-python",
   "name": "python",
   "nbconvert_exporter": "python",
   "pygments_lexer": "ipython3",
   "version": "3.7.4"
  }
 },
 "nbformat": 4,
 "nbformat_minor": 2
}
