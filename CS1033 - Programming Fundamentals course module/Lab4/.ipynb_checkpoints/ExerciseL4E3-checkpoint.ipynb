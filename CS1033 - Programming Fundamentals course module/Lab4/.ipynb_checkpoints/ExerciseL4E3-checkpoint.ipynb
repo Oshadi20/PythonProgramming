{
 "cells": [
  {
   "cell_type": "code",
   "execution_count": null,
   "metadata": {},
   "outputs": [],
   "source": [
    "msg = input(\"Enter message: \")\n",
    "base = int(input(\"Enter base: \"))\n",
    "Ascii = []\n",
    "encrMsg = \"\"\n",
    "for l in msg:\n",
    "    Ascii.append(ord(l))\n",
    "\n",
    "for i in Ascii:\n",
    "    convert = []\n",
    "    while i:\n",
    "        convert.append(i%base)\n",
    "        i//=base\n",
    "    for j in convert[::-1]:\n",
    "        encrMsg+=str(j)\n",
    "print(encrMsg)"
   ]
  }
 ],
 "metadata": {
  "kernelspec": {
   "display_name": "Python 3",
   "language": "python",
   "name": "python3"
  },
  "language_info": {
   "codemirror_mode": {
    "name": "ipython",
    "version": 3
   },
   "file_extension": ".py",
   "mimetype": "text/x-python",
   "name": "python",
   "nbconvert_exporter": "python",
   "pygments_lexer": "ipython3",
   "version": "3.7.4"
  }
 },
 "nbformat": 4,
 "nbformat_minor": 2
}
